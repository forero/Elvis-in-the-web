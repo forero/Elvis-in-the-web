{
 "metadata": {
  "name": ""
 },
 "nbformat": 3,
 "nbformat_minor": 0,
 "worksheets": [
  {
   "cells": [
    {
     "cell_type": "code",
     "collapsed": false,
     "input": [
      "%pylab inline\n",
      "import pandas "
     ],
     "language": "python",
     "metadata": {},
     "outputs": [
      {
       "output_type": "stream",
       "stream": "stdout",
       "text": [
        "Populating the interactive namespace from numpy and matplotlib\n"
       ]
      }
     ],
     "prompt_number": 1
    },
    {
     "cell_type": "code",
     "collapsed": false,
     "input": [
      "pair_data = pandas.read_csv(\"../data/Boxes_and_Pairs.csv\")"
     ],
     "language": "python",
     "metadata": {},
     "outputs": [],
     "prompt_number": 2
    },
    {
     "cell_type": "code",
     "collapsed": false,
     "input": [
      "print pair_data.columns"
     ],
     "language": "python",
     "metadata": {},
     "outputs": [
      {
       "output_type": "stream",
       "stream": "stdout",
       "text": [
        "Index([Pair, Box, X_H1 Mpc/h, Y_H1 Mpc/h, Z_H1 Mpc/h, X_H2 Mpc/h, Y_H2 Mpc/h, Z_H2 Mpc/h, Mass_H1 Msun/h, Mass_H2 Msun/h], dtype=object)\n"
       ]
      }
     ],
     "prompt_number": 3
    },
    {
     "cell_type": "code",
     "collapsed": false,
     "input": [
      "boxes = array(pair_data[\"Box\"])\n",
      "pos_x_A = array(pair_data[\"X_H1 Mpc/h\"])\n",
      "pos_y_A = array(pair_data[\"Y_H1 Mpc/h\"])\n",
      "pos_z_A = array(pair_data[\"Z_H1 Mpc/h\"])\n",
      "pos_x_B = array(pair_data[\"X_H2 Mpc/h\"])\n",
      "pos_y_B = array(pair_data[\"Y_H2 Mpc/h\"])\n",
      "pos_z_B = array(pair_data[\"Z_H2 Mpc/h\"])"
     ],
     "language": "python",
     "metadata": {},
     "outputs": [],
     "prompt_number": 4
    },
    {
     "cell_type": "code",
     "collapsed": false,
     "input": [
      "print boxes"
     ],
     "language": "python",
     "metadata": {},
     "outputs": [
      {
       "output_type": "stream",
       "stream": "stdout",
       "text": [
        "[ 1  3  4  5  7  7  8 14 14 15 17 20]\n"
       ]
      }
     ],
     "prompt_number": 5
    },
    {
     "cell_type": "code",
     "collapsed": false,
     "input": [],
     "language": "python",
     "metadata": {},
     "outputs": []
    }
   ],
   "metadata": {}
  }
 ]
}