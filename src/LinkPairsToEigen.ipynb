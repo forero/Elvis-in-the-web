{
 "metadata": {
  "name": ""
 },
 "nbformat": 3,
 "nbformat_minor": 0,
 "worksheets": [
  {
   "cells": [
    {
     "cell_type": "code",
     "collapsed": false,
     "input": [
      "%pylab inline\n",
      "import pandas \n",
      "import os.path"
     ],
     "language": "python",
     "metadata": {},
     "outputs": [
      {
       "output_type": "stream",
       "stream": "stdout",
       "text": [
        "Populating the interactive namespace from numpy and matplotlib\n"
       ]
      }
     ],
     "prompt_number": 1
    },
    {
     "cell_type": "code",
     "collapsed": false,
     "input": [
      "pair_data = pandas.read_csv(\"../data/Boxes_and_Pairs.csv\")"
     ],
     "language": "python",
     "metadata": {},
     "outputs": [],
     "prompt_number": 2
    },
    {
     "cell_type": "code",
     "collapsed": false,
     "input": [
      "print pair_data.columns"
     ],
     "language": "python",
     "metadata": {},
     "outputs": [
      {
       "output_type": "stream",
       "stream": "stdout",
       "text": [
        "Index([Pair, Box, X_H1 Mpc/h, Y_H1 Mpc/h, Z_H1 Mpc/h, X_H2 Mpc/h, Y_H2 Mpc/h, Z_H2 Mpc/h, Mass_H1 Msun/h, Mass_H2 Msun/h], dtype=object)\n"
       ]
      }
     ],
     "prompt_number": 3
    },
    {
     "cell_type": "code",
     "collapsed": false,
     "input": [
      "boxes = array(pair_data[\"Box\"])\n",
      "pos_x_A = array(pair_data[\"X_H1 Mpc/h\"])\n",
      "pos_y_A = array(pair_data[\"Y_H1 Mpc/h\"])\n",
      "pos_z_A = array(pair_data[\"Z_H1 Mpc/h\"])\n",
      "pos_x_B = array(pair_data[\"X_H2 Mpc/h\"])\n",
      "pos_y_B = array(pair_data[\"Y_H2 Mpc/h\"])\n",
      "pos_z_B = array(pair_data[\"Z_H2 Mpc/h\"])"
     ],
     "language": "python",
     "metadata": {},
     "outputs": [],
     "prompt_number": 4
    },
    {
     "cell_type": "code",
     "collapsed": false,
     "input": [
      "n_boxes = size(boxes)\n",
      "fileout = open(\"../data/eigen_props_128_s2.00.csv\",\"w\")\n",
      "fileout.write(\"lambda_1_H1, lambda_2_H1, lambda_3_H1,\")\n",
      "fileout.write(\"lambda_1_H2, lambda_2_H2, lambda_3_H2,\")\n",
      "fileout.write(\"eigen_1_X_H1, eigen_1_Y_H1, eigen_1_Z_H1,\")\n",
      "fileout.write(\"eigen_2_X_H1, eigen_2_Y_H1, eigen_2_Z_H1,\")\n",
      "fileout.write(\"eigen_3_X_H1, eigen_3_Y_H1, eigen_3_Z_H1,\")\n",
      "fileout.write(\"eigen_1_X_H2, eigen_1_Y_H2, eigen_1_Z_H2,\")\n",
      "fileout.write(\"eigen_2_X_H2, eigen_2_Y_H2, eigen_2_Z_H2,\")\n",
      "fileout.write(\"eigen_3_X_H2, eigen_3_Y_H2, eigen_3_Z_H2\\n\")\n",
      "\n",
      "for i_box in arange(n_boxes):\n",
      "    eigenvalues_A = empty((0))\n",
      "    eigenvalues_B = empty((0))\n",
      "    eigenvectors_A = empty((0))\n",
      "    eigenvectors_B = empty((0))\n",
      "    for i in range(1,4):\n",
      "        fname = \"../data/Tweb128/GVD_F09_1001_000_z125_box%d_009.s2.00.eigen_%d\"%(boxes[i_box],i)\n",
      "        pos_A = \"%f %f %f\"%(pos_x_A[i_box], pos_y_A[i_box], pos_z_A[i_box])\n",
      "        pos_B = \"%f %f %f\"%(pos_x_B[i_box], pos_y_B[i_box], pos_z_B[i_box])\n",
      "        get_value_A = \"./get_eigenvalue.x %s %s > tmp_A\"%(fname, pos_A)\n",
      "        get_value_B = \"./get_eigenvalue.x %s %s > tmp_B\"%(fname, pos_B)\n",
      "        a=os.system(get_value_A)\n",
      "        a=os.system(get_value_B)\n",
      "        value_A = loadtxt(\"tmp_A\")\n",
      "        value_B = loadtxt(\"tmp_B\")\n",
      "        eigenvalues_A = append(eigenvalues_A, value_A)\n",
      "        eigenvalues_B = append(eigenvalues_B, value_B)\n",
      "        \n",
      "        fname = \"../data/Tweb128/GVD_F09_1001_000_z125_box%d_009.s2.00.eigenvec_%d\"%(boxes[i_box],i)\n",
      "        pos_A = \"%f %f %f\"%(pos_x_A[i_box], pos_y_A[i_box], pos_z_A[i_box])\n",
      "        pos_B = \"%f %f %f\"%(pos_x_B[i_box], pos_y_B[i_box], pos_z_B[i_box])\n",
      "        get_value_A = \"./get_eigenvector.x %s %s > tmp_A\"%(fname, pos_A)\n",
      "        get_value_B = \"./get_eigenvector.x %s %s > tmp_B\"%(fname, pos_B)\n",
      "        a=os.system(get_value_A)\n",
      "        a=os.system(get_value_B)\n",
      "        value_A = loadtxt(\"tmp_A\")\n",
      "        value_B = loadtxt(\"tmp_B\")\n",
      "        eigenvectors_A = append(eigenvectors_A, value_A)\n",
      "        eigenvectors_B = append(eigenvectors_B, value_B)\n",
      "    print \n",
      "    print eigenvalues_A\n",
      "    print eigenvalues_B\n",
      "    print eigenvectors_A\n",
      "    print eigenvectors_B\n",
      "    for i in range(3):\n",
      "        fileout.write(\"%f,\"%(eigenvalues_A[i]))\n",
      "    for i in range(3):\n",
      "        fileout.write(\"%f,\"%(eigenvalues_B[i]))\n",
      "    for i in range(9):\n",
      "        fileout.write(\"%f,\"%(eigenvectors_A[i]))\n",
      "    for i in range(8):\n",
      "        fileout.write(\"%f,\"%(eigenvectors_B[i]))\n",
      "    fileout.write(\"%f\\n\"%(eigenvectors_B[8]))\n",
      "fileout.close()"
     ],
     "language": "python",
     "metadata": {},
     "outputs": [
      {
       "output_type": "stream",
       "stream": "stdout",
       "text": [
        "\n",
        "[ 1.75973   1.37235   0.173426]\n",
        "[ 2.11423   1.73376   0.961192]\n",
        "[ 0.35308   0.494808  0.803381  0.784391  0.401724 -0.549502  0.509965\n",
        " -0.770573  0.229403]\n",
        "[ 0.250978  0.293371  0.942299  0.798336  0.385132 -0.270886  0.547421\n",
        " -0.87499   0.196706]\n",
        "\n"
       ]
      },
      {
       "output_type": "stream",
       "stream": "stdout",
       "text": [
        "[ 4.12165   2.83508  -0.973312]\n",
        "[ 5.23427  3.73194 -1.43223]\n",
        "[ 0.993731  -0.169986  -0.0289065  0.0244054  0.815849  -0.564765   0.109105\n",
        "  0.552716   0.824745 ]\n",
        "[ 0.989533  -0.147747  -0.073115   0.0199857  0.840025  -0.535669   0.142918\n",
        "  0.522043   0.841257 ]\n",
        "\n"
       ]
      },
      {
       "output_type": "stream",
       "stream": "stdout",
       "text": [
        "[ 2.85524   1.25388   0.334284]\n",
        "[ 3.37662  1.58547  1.25657]\n",
        "[ 0.867002 -0.439107  0.390324  0.162795 -0.388208 -0.894704  0.470961\n",
        "  0.810234 -0.217144]\n",
        "[ 0.793431  -0.476267   0.436207   0.414316  -0.0933691 -0.888454   0.44588\n",
        "  0.87433    0.142734 ]\n",
        "\n"
       ]
      },
      {
       "output_type": "stream",
       "stream": "stdout",
       "text": [
        "[ 4.5348    0.992543  0.164662]\n",
        "[ 4.12959    0.904263   0.0213104]\n",
        "[ 0.178879  0.485778  0.848143  0.515053  0.341134 -0.406595  0.838286\n",
        " -0.804765  0.339609]\n",
        "[ 0.185146   0.555835   0.793894   0.237735   0.735213  -0.607882   0.953521\n",
        " -0.387956  -0.0145591]\n",
        "\n"
       ]
      },
      {
       "output_type": "stream",
       "stream": "stdout",
       "text": [
        "[ 3.01048  2.04792  1.23002]\n",
        "[ 2.70932   1.7259    0.583954]\n",
        "[ 0.57105  -0.754749 -0.291003  0.264321  0.522784 -0.808216  0.777198\n",
        "  0.396297  0.51196 ]\n",
        "[ 0.640928   -0.753793   -0.31001     0.00467103  0.490967   -0.851736\n",
        "  0.767587    0.436747    0.42242   ]\n",
        "\n"
       ]
      },
      {
       "output_type": "stream",
       "stream": "stdout",
       "text": [
        "[ 6.2937    4.66305   0.961887]\n",
        "[ 6.14783  4.32248  1.33979]\n",
        "[ 0.514381   0.749602   0.367584   0.134827   0.338923  -0.927482   0.846896\n",
        " -0.568531  -0.0682522]\n",
        "[ 0.544308  0.762068  0.362701  0.167374  0.355148 -0.926799  0.822019\n",
        " -0.541407 -0.097428]\n",
        "\n"
       ]
      },
      {
       "output_type": "stream",
       "stream": "stdout",
       "text": [
        "[ 4.34425   2.57701  -0.749935]\n",
        "[ 3.68003   1.38554  -0.295235]\n",
        "[ 0.224409  -0.0361767  0.980121   0.363686  -0.906155  -0.114483   0.904087\n",
        "  0.421396  -0.162037 ]\n",
        "[ 0.24242    0.248688   0.952571   0.810298  -0.72168    0.0614564\n",
        "  0.533525   0.646013  -0.298045 ]\n",
        "\n"
       ]
      },
      {
       "output_type": "stream",
       "stream": "stdout",
       "text": [
        "[ 2.59191   2.0631   -0.083688]\n",
        "[ 3.01119  2.24439  0.60137]\n",
        "[ 0.786247 -0.134914 -0.667744  0.575052  0.481715  0.601429  0.226122\n",
        " -0.86588   0.438635]\n",
        "[ 0.592903 -0.198434 -0.820115  0.757604  0.431809  0.418419  0.27295\n",
        " -0.879866  0.390304]\n",
        "\n"
       ]
      },
      {
       "output_type": "stream",
       "stream": "stdout",
       "text": [
        "[ 3.09983   1.41148   0.579323]\n",
        "[ 2.82396   1.46489   0.322265]\n",
        "[ 0.539011  -0.0802852 -0.803926   0.101317  -0.767835   0.426858   0.836183\n",
        "  0.635598   0.414119 ]\n",
        "[ 0.452184 -0.146922 -0.829386  0.29128  -0.966211  0.237006  0.843022\n",
        "  0.21178   0.505912]\n",
        "\n"
       ]
      },
      {
       "output_type": "stream",
       "stream": "stdout",
       "text": [
        "[ 4.64486   2.84356   0.202229]\n",
        "[ 3.65779   2.54177  -0.184498]\n",
        "[ 0.145457  -0.939356   0.308412   0.308856   0.340684   0.88932    0.93992\n",
        "  0.0392981 -0.337626 ]\n",
        "[ 0.135809  -0.925787   0.354203   0.261983   0.377146   0.889439   0.955469\n",
        "  0.0260762 -0.288856 ]\n",
        "\n"
       ]
      },
      {
       "output_type": "stream",
       "stream": "stdout",
       "text": [
        "[ 1.97743   1.56794   0.265958]\n",
        "[ 2.18742  1.24779  0.32453]\n",
        "[ 0.0281793 -0.924154  -0.37196    0.180068  -0.342993   0.908276   0.98325\n",
        "  0.168214  -0.19152  ]\n",
        "[ 0.31903  -0.934008 -0.238156  0.292151 -0.159225  0.944766  0.901592\n",
        "  0.319807 -0.225166]\n",
        "\n"
       ]
      },
      {
       "output_type": "stream",
       "stream": "stdout",
       "text": [
        "[ 4.59745  3.22586  1.44166]\n",
        "[ 4.53641  2.72669  1.02696]\n",
        "[ 0.343038 -0.388357  0.866006  0.196871 -0.896533 -0.434114  0.918459\n",
        "  0.213088 -0.248151]\n",
        "[ 0.249338  -0.390682   0.886889   0.0722371 -0.895846  -0.427922   0.965719\n",
        "  0.211725  -0.174099 ]\n"
       ]
      }
     ],
     "prompt_number": 50
    }
   ],
   "metadata": {}
  }
 ]
}